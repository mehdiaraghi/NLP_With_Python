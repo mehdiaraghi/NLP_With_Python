{
  "nbformat": 4,
  "nbformat_minor": 0,
  "metadata": {
    "colab": {
      "name": "Bert vs Glove Word_Embedding.ipynb",
      "provenance": [],
      "collapsed_sections": [],
      "include_colab_link": true
    },
    "kernelspec": {
      "name": "python3",
      "display_name": "Python 3"
    },
    "language_info": {
      "name": "python"
    }
  },
  "cells": [
    {
      "cell_type": "markdown",
      "metadata": {
        "id": "view-in-github",
        "colab_type": "text"
      },
      "source": [
        "<a href=\"https://colab.research.google.com/github/mehdiaraghi/NLP_With_Python/blob/main/Bert_vs_Glove_Word_Embedding.ipynb\" target=\"_parent\"><img src=\"https://colab.research.google.com/assets/colab-badge.svg\" alt=\"Open In Colab\"/></a>"
      ]
    },
    {
      "cell_type": "markdown",
      "metadata": {
        "id": "W-3sjPG9Ykp5"
      },
      "source": [
        "## Diffrence between Glove and BERT word Embedding\n",
        "\n",
        "In this notebook you will find what word embedding diffrences. I used Glove and BERT for this Comparison"
      ]
    },
    {
      "cell_type": "code",
      "metadata": {
        "id": "wxDhGPYmK72X"
      },
      "source": [
        "#Install the approprate Library\n",
        "!pip install flair"
      ],
      "execution_count": null,
      "outputs": []
    },
    {
      "cell_type": "code",
      "metadata": {
        "id": "qAWh8c2zL0v9"
      },
      "source": [
        "# Import Libraries\n",
        "import numpy as np\n",
        "from flair.embeddings import WordEmbeddings\n",
        "from flair.embeddings import TransformerWordEmbeddings\n",
        "from flair.data import Sentence\n",
        "from scipy.spatial import distance"
      ],
      "execution_count": null,
      "outputs": []
    },
    {
      "cell_type": "code",
      "metadata": {
        "id": "g7nCfi5nM_fK"
      },
      "source": [
        "text1= Sentence('Eating apple helps immune system')\n",
        "text2= Sentence('Apple introduces latest iMac in April.')"
      ],
      "execution_count": null,
      "outputs": []
    },
    {
      "cell_type": "code",
      "metadata": {
        "id": "XWrUEHm4L1hD"
      },
      "source": [
        "embedding_with_glove = WordEmbeddings('glove')\n",
        "embedding_with_bert = TransformerWordEmbeddings('bert-base-multilingual-cased')"
      ],
      "execution_count": null,
      "outputs": []
    },
    {
      "cell_type": "markdown",
      "metadata": {
        "id": "3y0TWIReSzSY"
      },
      "source": [
        "## GloVe"
      ]
    },
    {
      "cell_type": "code",
      "metadata": {
        "colab": {
          "base_uri": "https://localhost:8080/"
        },
        "id": "MOIvffn8NQeZ",
        "outputId": "75f97898-9c84-4a69-f01d-3017e3b667e5"
      },
      "source": [
        "glove_embed1= embedding_with_glove.embed(text1)\n",
        "glove_embed2= embedding_with_glove.embed(text2)\n",
        "print(glove_embed1)\n",
        "print('text1_apple vector shape: ',text1[1].embedding.shape)\n",
        "print('\\n')\n",
        "print(glove_embed2)\n",
        "print('text2_apple vector shape: ',text2[0].embedding.shape)\n"
      ],
      "execution_count": null,
      "outputs": [
        {
          "output_type": "stream",
          "text": [
            "[Sentence: \"Eating apple helps immune system\"   [− Tokens: 5]]\n",
            "text1_apple vector shape:  torch.Size([100])\n",
            "\n",
            "\n",
            "[Sentence: \"Apple introduces latest iMac in April .\"   [− Tokens: 7]]\n",
            "text2_apple vector shape:  torch.Size([100])\n"
          ],
          "name": "stdout"
        }
      ]
    },
    {
      "cell_type": "code",
      "metadata": {
        "colab": {
          "base_uri": "https://localhost:8080/"
        },
        "id": "WW2-9aMJOCWa",
        "outputId": "a6846d0a-5a34-4579-f153-351ef8bbfa59"
      },
      "source": [
        "# Distance between 'Apple\" in diffrent texts with Glove:\n",
        "glove_apple_distance = distance.euclidean(np.array(text1[1].embedding), \n",
        "                               np.array(text2[0].embedding))\n",
        "print('GloVe distance between apple embeddings= {}'.format(glove_apple_distance))"
      ],
      "execution_count": null,
      "outputs": [
        {
          "output_type": "stream",
          "text": [
            "GloVe distance between apple embeddings= 0.0\n"
          ],
          "name": "stdout"
        }
      ]
    },
    {
      "cell_type": "markdown",
      "metadata": {
        "id": "mb3ra1xGS303"
      },
      "source": [
        "## BERT"
      ]
    },
    {
      "cell_type": "code",
      "metadata": {
        "colab": {
          "base_uri": "https://localhost:8080/"
        },
        "id": "vAm8vvDvOxFh",
        "outputId": "ec2ab0ab-603e-411a-dc0c-0be6989ed231"
      },
      "source": [
        "bert_embed1= embedding_with_bert.embed(text1)\n",
        "bert_embed2= embedding_with_bert.embed(text2)\n",
        "print(glove_embed1)\n",
        "print('text1_apple vector shape: ',text1[1].embedding.shape)\n",
        "print('\\n')\n",
        "print(glove_embed2)\n",
        "print('text2_apple vector shape: ',text2[0].embedding.shape)"
      ],
      "execution_count": null,
      "outputs": [
        {
          "output_type": "stream",
          "text": [
            "[Sentence: \"Eating apple helps immune system\"   [− Tokens: 5]]\n",
            "text1_apple vector shape:  torch.Size([868])\n",
            "\n",
            "\n",
            "[Sentence: \"Apple introduces latest iMac in April .\"   [− Tokens: 7]]\n",
            "text2_apple vector shape:  torch.Size([868])\n"
          ],
          "name": "stdout"
        }
      ]
    },
    {
      "cell_type": "code",
      "metadata": {
        "colab": {
          "base_uri": "https://localhost:8080/"
        },
        "id": "Pl7alSvTS2lw",
        "outputId": "7e446894-b426-4869-bfb7-f7e0fee975ff"
      },
      "source": [
        "# Distance between 'Apple\" in diffrent texts with BERT:\n",
        "bert_apple_distance = distance.euclidean(np.array(text1[1].embedding), \n",
        "                               np.array(text2[0].embedding))\n",
        "print('BERT distance between apple embeddings= {}'.format(bert_apple_distance))"
      ],
      "execution_count": null,
      "outputs": [
        {
          "output_type": "stream",
          "text": [
            "BERT distance between apple embeddings= 19.85869789123535\n"
          ],
          "name": "stdout"
        }
      ]
    }
  ]
}